{
 "cells": [
  {
   "cell_type": "markdown",
   "metadata": {},
   "source": [
    "# Every variable in python acts like object and object has 3 characteristics:\n",
    "# identity\n",
    "# type\n",
    "# value"
   ]
  },
  {
   "cell_type": "code",
   "execution_count": 2,
   "metadata": {},
   "outputs": [
    {
     "name": "stdout",
     "output_type": "stream",
     "text": [
      "1663027504\n",
      "<class 'int'>\n",
      "10\n"
     ]
    }
   ],
   "source": [
    "a=10\n",
    "print(id(a))\n",
    "print(type(a))\n",
    "print(a)"
   ]
  },
  {
   "cell_type": "code",
   "execution_count": 3,
   "metadata": {},
   "outputs": [
    {
     "data": {
      "text/plain": [
       "10"
      ]
     },
     "execution_count": 3,
     "metadata": {},
     "output_type": "execute_result"
    }
   ],
   "source": [
    "b=10\n",
    "b"
   ]
  },
  {
   "cell_type": "code",
   "execution_count": 4,
   "metadata": {},
   "outputs": [
    {
     "name": "stdout",
     "output_type": "stream",
     "text": [
      "1663027504\n"
     ]
    }
   ],
   "source": [
    "print(id(b))"
   ]
  },
  {
   "cell_type": "code",
   "execution_count": 5,
   "metadata": {},
   "outputs": [
    {
     "name": "stdout",
     "output_type": "stream",
     "text": [
      "10 24.5 gitam (2+4j)\n",
      "<class 'int'> <class 'float'> <class 'str'> <class 'complex'>\n"
     ]
    }
   ],
   "source": [
    "a=10\n",
    "b=24.5\n",
    "c=\"gitam\"\n",
    "d=2+4j\n",
    "print(a,b,c,d)\n",
    "print(type(a),type(b),type(c),type(d))"
   ]
  },
  {
   "cell_type": "markdown",
   "metadata": {},
   "source": [
    "# Number Types:\n",
    "## integer\n",
    "## float\n",
    "## complex\n",
    "## boolean\n",
    "## all numbers are immutable, values are not modified. If they are modified new reference is pointing to modified value"
   ]
  },
  {
   "cell_type": "code",
   "execution_count": 6,
   "metadata": {},
   "outputs": [
    {
     "name": "stdout",
     "output_type": "stream",
     "text": [
      "1663027504\n",
      "1663028944\n"
     ]
    }
   ],
   "source": [
    "a=10\n",
    "print(id(a))\n",
    "a=100\n",
    "print(id(a))"
   ]
  },
  {
   "cell_type": "code",
   "execution_count": 7,
   "metadata": {},
   "outputs": [
    {
     "name": "stdout",
     "output_type": "stream",
     "text": [
      "1663027504\n",
      "1663028944\n"
     ]
    }
   ],
   "source": [
    "print(id(10))\n",
    "print(id(100))"
   ]
  },
  {
   "cell_type": "code",
   "execution_count": 8,
   "metadata": {},
   "outputs": [
    {
     "name": "stdout",
     "output_type": "stream",
     "text": [
      "7043296\n"
     ]
    }
   ],
   "source": [
    "a='t'\n",
    "print(id(a))"
   ]
  },
  {
   "cell_type": "code",
   "execution_count": 9,
   "metadata": {},
   "outputs": [
    {
     "data": {
      "text/plain": [
       "'t'"
      ]
     },
     "execution_count": 9,
     "metadata": {},
     "output_type": "execute_result"
    }
   ],
   "source": [
    "a"
   ]
  },
  {
   "cell_type": "code",
   "execution_count": 14,
   "metadata": {},
   "outputs": [
    {
     "name": "stdout",
     "output_type": "stream",
     "text": [
      "(2+5j)\n",
      "2.0\n",
      "5.0\n",
      "63963288\n",
      "(2-5j)\n",
      "(3+4j)\n"
     ]
    }
   ],
   "source": [
    "a=2+5j\n",
    "print(a)\n",
    "print(a.real)\n",
    "print(a.imag)\n",
    "print(id(a))\n",
    "print(a.conjugate())\n",
    "c=complex(3,4)\n",
    "print(c)"
   ]
  },
  {
   "cell_type": "code",
   "execution_count": 15,
   "metadata": {},
   "outputs": [
    {
     "name": "stdout",
     "output_type": "stream",
     "text": [
      "(14+11j)\n",
      "(-4+3j)\n",
      "(17+83j)\n"
     ]
    }
   ],
   "source": [
    "c=5+7j\n",
    "d=9+4j\n",
    "print(c+d)\n",
    "print(c-d)\n",
    "print(c*d)"
   ]
  },
  {
   "cell_type": "code",
   "execution_count": 16,
   "metadata": {},
   "outputs": [
    {
     "name": "stdout",
     "output_type": "stream",
     "text": [
      "gitam\n",
      "gitam\n",
      "<class 'str'> <class 'str'>\n",
      "5\n"
     ]
    }
   ],
   "source": [
    "str=\"gitam\"\n",
    "str1='gitam'\n",
    "print(str)\n",
    "print(str1)\n",
    "print(type(str),type(str1))\n",
    "print(len(str))"
   ]
  },
  {
   "cell_type": "markdown",
   "metadata": {},
   "source": [
    "# Type Conversions:\n",
    "## int()\n",
    "## float()\n",
    "## complex()\n",
    "## tuple()\n",
    "## set()\n",
    "## dict()\n",
    "## bool()"
   ]
  },
  {
   "cell_type": "markdown",
   "metadata": {},
   "source": [
    "# input():\n",
    "## It is used to give the input to the program and its type is string and by using type conversions to convert it into other types"
   ]
  },
  {
   "cell_type": "code",
   "execution_count": 26,
   "metadata": {},
   "outputs": [
    {
     "name": "stdout",
     "output_type": "stream",
     "text": [
      "enter the number77\n",
      "<class 'str'>\n",
      "<class 'int'>\n",
      "the number is 77\n"
     ]
    }
   ],
   "source": [
    "a=input(\"enter the number\")\n",
    "print(type(a))\n",
    "b=int(a)\n",
    "print(type(b))\n",
    "print(\"the number is\",b)"
   ]
  },
  {
   "cell_type": "code",
   "execution_count": 19,
   "metadata": {},
   "outputs": [
    {
     "data": {
      "text/plain": [
       "'\\ndocument string\\n'"
      ]
     },
     "execution_count": 19,
     "metadata": {},
     "output_type": "execute_result"
    }
   ],
   "source": [
    "# comments in python\n",
    "\n",
    "'''\n",
    "document string\n",
    "'''"
   ]
  },
  {
   "cell_type": "code",
   "execution_count": 27,
   "metadata": {},
   "outputs": [
    {
     "name": "stdout",
     "output_type": "stream",
     "text": [
      "77\n"
     ]
    }
   ],
   "source": [
    "#a=10\n",
    "'''\n",
    "print(\"its given the description about resource of python\")\n",
    "'''\n",
    "b=100\n",
    "print(a)"
   ]
  },
  {
   "cell_type": "code",
   "execution_count": 28,
   "metadata": {},
   "outputs": [
    {
     "data": {
      "text/plain": [
       "'\\nprint(\"its given the description about resource of python\")\\n'"
      ]
     },
     "execution_count": 28,
     "metadata": {},
     "output_type": "execute_result"
    }
   ],
   "source": [
    "#a=10\n",
    "'''\n",
    "print(\"its given the description about resource of python\")\n",
    "'''\n"
   ]
  },
  {
   "cell_type": "code",
   "execution_count": 29,
   "metadata": {},
   "outputs": [
    {
     "name": "stdout",
     "output_type": "stream",
     "text": [
      "<class 'str'>\n",
      "4\n",
      "<class 'int'>\n"
     ]
    }
   ],
   "source": [
    "b=\"1947\"\n",
    "print(type(b))\n",
    "print(len(b))\n",
    "c=int(b)\n",
    "print(type(c))\n",
    "#print(len(c))"
   ]
  },
  {
   "cell_type": "code",
   "execution_count": 30,
   "metadata": {},
   "outputs": [
    {
     "name": "stdout",
     "output_type": "stream",
     "text": [
      "enter the 1st number7\n",
      "enter the 2nd number7\n",
      "sum is 14\n"
     ]
    }
   ],
   "source": [
    "a=int(input(\"enter the 1st number\"))\n",
    "b=int(input(\"enter the 2nd number\"))\n",
    "c=a+b\n",
    "print(\"sum is\",c)"
   ]
  },
  {
   "cell_type": "markdown",
   "metadata": {},
   "source": [
    "# Types of operators:\n",
    "## 1. Arithmetic operators\n",
    "### Ex:-,+,*,/(decimal quotient),//(integer quotient),**,%\n",
    "### // (floor division)\n",
    "### % remainder\n",
    "### **(act like pow(), where arguments are integers)"
   ]
  },
  {
   "cell_type": "code",
   "execution_count": 31,
   "metadata": {},
   "outputs": [
    {
     "name": "stdout",
     "output_type": "stream",
     "text": [
      "17\n",
      "7\n",
      "60\n",
      "2.4\n",
      "2\n",
      "2\n",
      "248832\n"
     ]
    }
   ],
   "source": [
    "a=12\n",
    "b=5\n",
    "print(a+b)\n",
    "print(a-b)\n",
    "print(a*b)\n",
    "print(a/b)# division with decimal\n",
    "print(a//b)# floor division\n",
    "print(a%b)# remainder\n",
    "print(a**b)# pow(a,b)"
   ]
  },
  {
   "cell_type": "markdown",
   "metadata": {},
   "source": [
    "## 2.Relational operators\n",
    "### Ex: <,<=,>,>=,==,!="
   ]
  },
  {
   "cell_type": "code",
   "execution_count": 32,
   "metadata": {},
   "outputs": [
    {
     "name": "stdout",
     "output_type": "stream",
     "text": [
      "True\n",
      "False\n",
      "True\n",
      "0\n",
      "1\n"
     ]
    }
   ],
   "source": [
    "x=10\n",
    "y=34\n",
    "print(x<34)\n",
    "print(x==y)\n",
    "print(x!=y)\n",
    "print(int(x>y))\n",
    "print(int(y>x))"
   ]
  },
  {
   "cell_type": "markdown",
   "metadata": {},
   "source": [
    "## 3.Logical operators:\n",
    "### Ex: and or not"
   ]
  },
  {
   "cell_type": "code",
   "execution_count": 35,
   "metadata": {},
   "outputs": [
    {
     "name": "stdout",
     "output_type": "stream",
     "text": [
      "True\n",
      "True\n",
      "False\n"
     ]
    }
   ],
   "source": [
    "x=20\n",
    "print(x>=20 and x<=30)\n",
    "print(x>=30 or x<=20)\n",
    "print(not(x))"
   ]
  },
  {
   "cell_type": "markdown",
   "metadata": {},
   "source": [
    "## 4.Membership operators\n",
    "### Ex: in, not in"
   ]
  },
  {
   "cell_type": "code",
   "execution_count": 36,
   "metadata": {},
   "outputs": [
    {
     "name": "stdout",
     "output_type": "stream",
     "text": [
      "True\n",
      "True\n"
     ]
    }
   ],
   "source": [
    "str1='gitam'\n",
    "print('i' in str1)\n",
    "print('z' not in str1)"
   ]
  },
  {
   "cell_type": "markdown",
   "metadata": {},
   "source": [
    "## 5.Identity operators\n",
    "### is is not"
   ]
  },
  {
   "cell_type": "code",
   "execution_count": 37,
   "metadata": {},
   "outputs": [
    {
     "name": "stdout",
     "output_type": "stream",
     "text": [
      "False\n",
      "True\n"
     ]
    }
   ],
   "source": [
    "a=45\n",
    "b=89\n",
    "print(a is b)\n",
    "print(a is not b)"
   ]
  },
  {
   "cell_type": "markdown",
   "metadata": {},
   "source": [
    "## 6.Bitwise operators: (works with 0 and 1)\n",
    "### &,|,<<,>>,~\n",
    "### << left shift\n",
    "### >> right shift\n",
    "### ~ (1's complement)"
   ]
  },
  {
   "cell_type": "markdown",
   "metadata": {},
   "source": [
    "## 7. Special operators:\n",
    "### + and ' are used for concatenation\n",
    "### * repetation operator\n",
    "### [start:stop:step] slice operator\n",
    "### range(start,stop,step)\n",
    "### indentation:\n",
    "### it represents block or {} in c language"
   ]
  },
  {
   "cell_type": "code",
   "execution_count": 39,
   "metadata": {},
   "outputs": [
    {
     "name": "stdout",
     "output_type": "stream",
     "text": [
      "value of a is 100\n",
      "[1, 2, 3, 4, 5, 6]\n",
      "gitamgitamgitam\n",
      "it\n",
      "[1, 3, 5, 7, 9]\n"
     ]
    }
   ],
   "source": [
    "a=100\n",
    "print(\"value of a is\",a)\n",
    "c=[1,2,3]\n",
    "d=[4,5,6]\n",
    "print(c+d)\n",
    "d=\"gitam\"\n",
    "print(d*3)\n",
    "print(d[1:3])\n",
    "print(list(range(1,10,2)))"
   ]
  },
  {
   "cell_type": "markdown",
   "metadata": {},
   "source": [
    "# Control statements:\n",
    "## 1. if statement\n",
    "   ### if(condition):\n",
    "           statement1\n",
    "           statement2\n",
    "           "
   ]
  },
  {
   "cell_type": "code",
   "execution_count": 41,
   "metadata": {},
   "outputs": [
    {
     "name": "stdout",
     "output_type": "stream",
     "text": [
      "+ve no\n"
     ]
    }
   ],
   "source": [
    "a=10\n",
    "if(a>0):\n",
    "    print(\"+ve no\")\n",
    "if(a<0):\n",
    "    print(\"-ve no\")\n",
    "if(a==0):\n",
    "    print(\"zero\")"
   ]
  },
  {
   "cell_type": "code",
   "execution_count": 42,
   "metadata": {},
   "outputs": [
    {
     "name": "stdout",
     "output_type": "stream",
     "text": [
      "enter the number-7\n",
      "-ve no\n"
     ]
    }
   ],
   "source": [
    "a=int(input(\"enter the number\"))\n",
    "if(a>0):\n",
    "    print(\"+ve no\")\n",
    "if(a<0):\n",
    "    print(\"-ve no\")\n",
    "if(a==0):\n",
    "    print(\"zero\")"
   ]
  },
  {
   "cell_type": "markdown",
   "metadata": {},
   "source": [
    "## 2. if-else statement\n",
    "### if(condition):\n",
    "        statement1\n",
    "        statement2\n",
    "### else:\n",
    "        statement1\n",
    "        statement2"
   ]
  },
  {
   "cell_type": "code",
   "execution_count": 43,
   "metadata": {},
   "outputs": [
    {
     "name": "stdout",
     "output_type": "stream",
     "text": [
      "enter the number7\n",
      "7 is odd no\n"
     ]
    }
   ],
   "source": [
    "n=int(input(\"enter the number\"))\n",
    "if(n%2==0):\n",
    "    print(n,\"is even no\")\n",
    "else:\n",
    "    print(n,\"is odd no\")"
   ]
  },
  {
   "cell_type": "code",
   "execution_count": 49,
   "metadata": {},
   "outputs": [
    {
     "name": "stdout",
     "output_type": "stream",
     "text": [
      "enter the year2024\n",
      "2024 is leap year\n"
     ]
    }
   ],
   "source": [
    "y=int(input(\"enter the year\"))\n",
    "if((y%100!=0) and (y%4==0) or (y%400==0)):\n",
    "    print(y,\"is leap year\")\n",
    "else:\n",
    "    print(y,\"is not leap year\")"
   ]
  },
  {
   "cell_type": "markdown",
   "metadata": {},
   "source": [
    "## 3.elseif statement\n",
    "### if(condition):\n",
    "        statement1\n",
    "        statement2\n",
    "### elif(condition):\n",
    "        stmt3\n",
    "        stmt4\n",
    "### else:\n",
    "        stmt5\n",
    "        stmt6"
   ]
  },
  {
   "cell_type": "code",
   "execution_count": 52,
   "metadata": {},
   "outputs": [
    {
     "name": "stdout",
     "output_type": "stream",
     "text": [
      "200 is big\n"
     ]
    }
   ],
   "source": [
    "a,b,c=10,200,30\n",
    "if(a>b and a>c):\n",
    "    print(a,\"is big\")\n",
    "elif(b>c):\n",
    "    print(b,\"is big\")\n",
    "else:\n",
    "    print(c,\"is big\")"
   ]
  },
  {
   "cell_type": "code",
   "execution_count": 53,
   "metadata": {},
   "outputs": [
    {
     "name": "stdout",
     "output_type": "stream",
     "text": [
      "100 100 100\n"
     ]
    }
   ],
   "source": [
    "a=b=c=100\n",
    "print(a,b,c)"
   ]
  },
  {
   "cell_type": "code",
   "execution_count": 54,
   "metadata": {},
   "outputs": [
    {
     "name": "stdout",
     "output_type": "stream",
     "text": [
      "before swapping 10 20\n",
      "after swapping 20 10\n"
     ]
    }
   ],
   "source": [
    "a=10\n",
    "b=20\n",
    "print(\"before swapping\",a,b)\n",
    "a,b=b,a\n",
    "print(\"after swapping\",a,b)"
   ]
  },
  {
   "cell_type": "code",
   "execution_count": 57,
   "metadata": {},
   "outputs": [
    {
     "name": "stdout",
     "output_type": "stream",
     "text": [
      "enter the choice4\n",
      "20.0\n"
     ]
    }
   ],
   "source": [
    "a=100\n",
    "b=5\n",
    "ch=int(input(\"enter the choice\"))\n",
    "if(ch==1):\n",
    "    print(a+b)\n",
    "elif(ch==2):\n",
    "    print(a-b)\n",
    "elif(ch==3):\n",
    "    print(a*b)\n",
    "elif(ch==4):\n",
    "    print(a/b)\n",
    "else:\n",
    "    print(\"invalid choice\")"
   ]
  },
  {
   "cell_type": "code",
   "execution_count": 62,
   "metadata": {},
   "outputs": [
    {
     "name": "stdout",
     "output_type": "stream",
     "text": [
      "enter the character:l\n",
      "consonant\n"
     ]
    }
   ],
   "source": [
    "ch=input(\"enter the character:\")\n",
    "if(ch=='a' or ch=='e' or ch=='i' or ch=='o' or ch=='u'):\n",
    "    print(\"vowel\")\n",
    "elif(ch=='A' or ch=='E' or ch=='I' or ch=='O' or ch=='U'):\n",
    "    print(\"vowel\")\n",
    "else:\n",
    "    print(\"consonant\")"
   ]
  },
  {
   "cell_type": "code",
   "execution_count": null,
   "metadata": {},
   "outputs": [],
   "source": []
  }
 ],
 "metadata": {
  "kernelspec": {
   "display_name": "Python 3",
   "language": "python",
   "name": "python3"
  },
  "language_info": {
   "codemirror_mode": {
    "name": "ipython",
    "version": 3
   },
   "file_extension": ".py",
   "mimetype": "text/x-python",
   "name": "python",
   "nbconvert_exporter": "python",
   "pygments_lexer": "ipython3",
   "version": "3.7.3"
  }
 },
 "nbformat": 4,
 "nbformat_minor": 2
}
