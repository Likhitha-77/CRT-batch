{
 "cells": [
  {
   "cell_type": "markdown",
   "metadata": {},
   "source": [
    "#zwelcome to python"
   ]
  },
  {
   "cell_type": "markdown",
   "metadata": {},
   "source": []
  },
  {
   "cell_type": "markdown",
   "metadata": {},
   "source": [
    "python is popular language"
   ]
  },
  {
   "cell_type": "markdown",
   "metadata": {},
   "source": [
    "![image](https://www.google.com/url?sa=i&url=https%3A%2F%2Fhackernoon.com%2Ffuture-of-python-language-bright-or-dull-uv41u3xwx&psig=AOvVaw3KDvL3X4eEoFTRRc2Ufqh0&ust=1577250712847000&source=images&cd=vfe&ved=0CAIQjRxqFwoTCMioqPLDzeYCFQAAAAAdAAAAABAD)# to insert an image\n",
    "![]()\n",
    "![title](https://www.google.com/url?sa=i&url=https%3A%2F%2Fhackernoon.com%2Ffuture-of-python-language-bright-or-dull-uv41u3xwx&psig=AOvVaw3KDvL3X4eEoFTRRc2Ufqh0&ust=1577250712847000&source=images&cd=vfe&ved=0CAIQjRxqFwoTCMioqPLDzeYCFQAAAAAdAAAAABAD)\n"
   ]
  },
  {
   "cell_type": "code",
   "execution_count": 1,
   "metadata": {},
   "outputs": [
    {
     "ename": "IndentationError",
     "evalue": "unexpected indent (<ipython-input-1-a4f75b635424>, line 2)",
     "output_type": "error",
     "traceback": [
      "\u001b[1;36m  File \u001b[1;32m\"<ipython-input-1-a4f75b635424>\"\u001b[1;36m, line \u001b[1;32m2\u001b[0m\n\u001b[1;33m    )\u001b[0m\n\u001b[1;37m    ^\u001b[0m\n\u001b[1;31mIndentationError\u001b[0m\u001b[1;31m:\u001b[0m unexpected indent\n"
     ]
    }
   ],
   "source": [
    "![image](https://www.google.com/url?sa=i&url=https%3A%2F%2Fhackernoon.com%2Ffuture-of-python-language-bright-or-dull-uv41u3xwx&psig=AOvVaw3KDvL3X4eEoFTRRc2Ufqh0&ust=1577250712847000&source=images&cd=vfe&ved=0CAIQjRxqFwoTCMioqPLDzeYCFQAAAAAdAAAAABAD)\n",
    "    )"
   ]
  },
  {
   "cell_type": "markdown",
   "metadata": {},
   "source": [
    "![image](https://www.google.com/url?sa=i&url=https%3A%2F%2Fhackernoon.com%2Ffuture-of-python-language-bright-or-dull-uv41u3xwx&psig=AOvVaw3KDvL3X4eEoFTRRc2Ufqh0&ust=1577250712847000&source=images&cd=vfe&ved=0CAIQjRxqFwoTCMioqPLDzeYCFQAAAAAd"
   ]
  },
  {
   "cell_type": "markdown",
   "metadata": {},
   "source": [
    "![title](https://encrypted-tbn0.gstatic.com/images?q=tbn%3AANd9GcRZF0o7lOZWGYZZ7h-Gtz85BETSYfI_iud2oM9by6Hati1cM7vf)"
   ]
  },
  {
   "cell_type": "markdown",
   "metadata": {},
   "source": [
    "![title](https://www.google.com/url?sa=i&url=https%3A%2F%2Fhackernoon.com%2Ffuture-of-python-language-bright-or-dull-uv41u3xwx&psig=AOvVaw3KDvL3X4eEoFTRRc2Ufqh0&ust=1577250712847000&source=images&cd=vfe&ved=0CAIQjRxqFwoTCMioqPLDzeYCFQAAAAAdAAAAABAD)"
   ]
  },
  {
   "cell_type": "markdown",
   "metadata": {},
   "source": [
    "# use *text* for getting italic font\n",
    "# use **text** for getting bold font\n",
    "# use ***text*** for getting both italic and bold font"
   ]
  },
  {
   "cell_type": "markdown",
   "metadata": {},
   "source": [
    "<font color=\"red\">gitam</font>"
   ]
  },
  {
   "cell_type": "markdown",
   "metadata": {},
   "source": [
    "<a href=\"https://www.google.com\">clickme</a>"
   ]
  },
  {
   "cell_type": "markdown",
   "metadata": {},
   "source": [
    "<h1>gitam colleges locations</h1>\n",
    "<ul>\n",
    "    <li>vizag</li>\n",
    "    <li>hyderabad</li>\n",
    "    <li>banglore</li>\n",
    "    </ul>\n",
    "    "
   ]
  },
  {
   "cell_type": "markdown",
   "metadata": {},
   "source": [
    "<h1>gitam college locations</h1>\n",
    "<ol>\n",
    "    <li>vizag</li>\n",
    "    <li>hyderabad</li>\n",
    "    <li>banglore</li>\n",
    "    </ol>\n",
    "       "
   ]
  },
  {
   "cell_type": "code",
   "execution_count": 9,
   "metadata": {},
   "outputs": [
    {
     "name": "stdout",
     "output_type": "stream",
     "text": [
      "hello world\n"
     ]
    }
   ],
   "source": [
    "print(\"hello world\")"
   ]
  },
  {
   "cell_type": "code",
   "execution_count": 10,
   "metadata": {},
   "outputs": [
    {
     "name": "stdout",
     "output_type": "stream",
     "text": [
      "hello\n",
      "everyone\n"
     ]
    }
   ],
   "source": [
    "print(\"hello\")\n",
    "print(\"everyone\")"
   ]
  },
  {
   "cell_type": "code",
   "execution_count": 11,
   "metadata": {},
   "outputs": [
    {
     "name": "stdout",
     "output_type": "stream",
     "text": [
      "hello everyone\n"
     ]
    }
   ],
   "source": [
    "print(\"hello\",end=\" \")\n",
    "print(\"everyone\")"
   ]
  },
  {
   "cell_type": "code",
   "execution_count": 12,
   "metadata": {},
   "outputs": [
    {
     "name": "stdout",
     "output_type": "stream",
     "text": [
      "\n",
      "Here is a list of the Python keywords.  Enter any keyword to get more help.\n",
      "\n",
      "False               class               from                or\n",
      "None                continue            global              pass\n",
      "True                def                 if                  raise\n",
      "and                 del                 import              return\n",
      "as                  elif                in                  try\n",
      "assert              else                is                  while\n",
      "async               except              lambda              with\n",
      "await               finally             nonlocal            yield\n",
      "break               for                 not                 \n",
      "\n"
     ]
    }
   ],
   "source": [
    "help(\"keywords\")"
   ]
  },
  {
   "cell_type": "markdown",
   "metadata": {},
   "source": [
    "# variable naming rules in python\n",
    "1. starting letter shud be alphabet\n",
    "2. never use variable name as keyword\n",
    "3. single _ can be used \n",
    "4. case sensitive"
   ]
  },
  {
   "cell_type": "code",
   "execution_count": 13,
   "metadata": {},
   "outputs": [
    {
     "name": "stdout",
     "output_type": "stream",
     "text": [
      "10\n",
      "34.5\n",
      "gitam\n",
      "hyd\n"
     ]
    }
   ],
   "source": [
    "a=10\n",
    "b=34.5\n",
    "c=\"gitam\"\n",
    "d=\"hyd\"\n",
    "print(a)\n",
    "print(b)\n",
    "print(c)\n",
    "print(d)"
   ]
  },
  {
   "cell_type": "code",
   "execution_count": null,
   "metadata": {},
   "outputs": [],
   "source": []
  }
 ],
 "metadata": {
  "kernelspec": {
   "display_name": "Python 3",
   "language": "python",
   "name": "python3"
  },
  "language_info": {
   "codemirror_mode": {
    "name": "ipython",
    "version": 3
   },
   "file_extension": ".py",
   "mimetype": "text/x-python",
   "name": "python",
   "nbconvert_exporter": "python",
   "pygments_lexer": "ipython3",
   "version": "3.7.3"
  }
 },
 "nbformat": 4,
 "nbformat_minor": 2
}
